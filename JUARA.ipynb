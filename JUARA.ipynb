{
 "cells": [
  {
   "cell_type": "markdown",
   "metadata": {},
   "source": [
    "#### TUGAS UTS NLP (Dosen Pemangku : Ibu Nur Hayatin)\n"
   ]
  },
  {
   "cell_type": "markdown",
   "metadata": {},
   "source": [
    "###### 1. Yusril Aminuddin - 201910370311366\n",
    "###### 2. Yusril Aminuddin - 201910370311366\n",
    "###### 3. Yusril Aminuddin - 201910370311366"
   ]
  },
  {
   "cell_type": "markdown",
   "metadata": {},
   "source": [
    "#### I. Petunjuk"
   ]
  },
  {
   "cell_type": "markdown",
   "metadata": {},
   "source": [
    "###### • Tugas Wajib: mengerjakan penugasan A dan B (nomor 1-7)\n",
    "###### • Tugas Tantangan: menambahkan slangword dan repetition normalization (contoh: “gak”→ “enggak”, “baguusss” → “bagus”)\n",
    "###### • Pengerjakan tugas berkelompok.\n",
    "###### • Pengumpulan: upload ke google drive (berisi: source code python, dan data csv hasil merging). Link google drive diletakan pada file excel yang sudah disediakan.\n",
    "###### • Deadline pengumpulan tugas: 17 Mei 2022 (pkl. 23.59 wib)"
   ]
  },
  {
   "cell_type": "markdown",
   "metadata": {},
   "source": [
    "#### II. Skor/penilaian UTS"
   ]
  },
  {
   "cell_type": "markdown",
   "metadata": {},
   "source": [
    "###### nilai B = mengerjakan tugas wajib sesuai petunjuk dan hasilnya benar.\n",
    "###### nilai A = mengerjakan tugas wajib + tugas tantangan dengan benar."
   ]
  },
  {
   "cell_type": "markdown",
   "metadata": {},
   "source": [
    "#### III. Penugasan"
   ]
  },
  {
   "cell_type": "markdown",
   "metadata": {},
   "source": [
    "##### A. Merging Data\n",
    "###### Data csv merupakan gabungan dari data hasil crawling oleh seluruh anggota dalam 1 team. \n",
    "###### Jika dalam 1 team ada 5 orang maka total gabungan data menjadi +/- 500 rows."
   ]
  },
  {
   "cell_type": "markdown",
   "metadata": {},
   "source": [
    "##### B. Preprocessing\n",
    "###### 1. Menampilkan file csv\n",
    "###### 2. mengubah rating menjadi kelas sentiment (1-2: negative, 3 neutral, 4-5: positive)\n",
    "###### 3. lowercase\n",
    "###### 4. remove punctuation & symbol\n",
    "###### 5. stopword removal\n",
    "###### 6. stemming\n",
    "###### 7. POS tagging\n"
   ]
  },
  {
   "cell_type": "markdown",
   "metadata": {},
   "source": [
    "#### Jawaban"
   ]
  },
  {
   "cell_type": "markdown",
   "metadata": {},
   "source": [
    "##### 1. Menampilkan File CSV ✅"
   ]
  },
  {
   "cell_type": "code",
   "execution_count": null,
   "metadata": {},
   "outputs": [],
   "source": [
    "import pandas as pd"
   ]
  },
  {
   "cell_type": "code",
   "execution_count": null,
   "metadata": {},
   "outputs": [],
   "source": [
    "df = pd.read_csv(r\"Dataset Merging/UTS-PBA-A (Merging) Final.csv\", sep = \";\")"
   ]
  },
  {
   "cell_type": "code",
   "execution_count": null,
   "metadata": {},
   "outputs": [],
   "source": [
    "df.head()"
   ]
  },
  {
   "cell_type": "markdown",
   "metadata": {},
   "source": [
    "##### 2. Mengubah Rating Menjadi Kelas Sentiment (1-2: Negative, 3: Neutral, 4-5: Positive) ✅"
   ]
  },
  {
   "cell_type": "code",
   "execution_count": null,
   "metadata": {},
   "outputs": [],
   "source": [
    "# membuat fungsi pengecekan sentiment negative/netral/positif dari kolom rating\n",
    "def rating_pos_neg(rating):\n",
    "    if rating >= 1 and rating <= 2:\n",
    "        return \"Negative\"\n",
    "    if rating == 3 :\n",
    "        return \"Neutral\"\n",
    "    else:\n",
    "        return \"Positive\""
   ]
  },
  {
   "cell_type": "code",
   "execution_count": null,
   "metadata": {},
   "outputs": [],
   "source": [
    "# membuat kolom baru dari fungsi diatas\n",
    "df[\"sentiment\"] = df[\"rating\"].apply(lambda x: rating_pos_neg(x))"
   ]
  },
  {
   "cell_type": "code",
   "execution_count": null,
   "metadata": {},
   "outputs": [],
   "source": [
    "df.head(500)"
   ]
  },
  {
   "cell_type": "markdown",
   "metadata": {},
   "source": [
    "##### 3. Lowercase"
   ]
  },
  {
   "cell_type": "code",
   "execution_count": null,
   "metadata": {},
   "outputs": [],
   "source": [
    "# membuat fungsi lowercase\n",
    "def lowercase_(data):\n",
    "    data=data.lower()\n",
    "    return data"
   ]
  },
  {
   "cell_type": "code",
   "execution_count": null,
   "metadata": {},
   "outputs": [],
   "source": [
    "# membuat kolom baru dari fungsi diatas\n",
    "df[\"lower_case\"] = df[\"komentar\"].apply(lambda x: lowercase_(x))"
   ]
  },
  {
   "cell_type": "code",
   "execution_count": null,
   "metadata": {},
   "outputs": [],
   "source": [
    "df.head(500)"
   ]
  },
  {
   "cell_type": "markdown",
   "metadata": {},
   "source": [
    "##### 4. Remove Punctuation & Symbol"
   ]
  },
  {
   "cell_type": "code",
   "execution_count": null,
   "metadata": {},
   "outputs": [],
   "source": []
  },
  {
   "cell_type": "markdown",
   "metadata": {},
   "source": [
    "##### 5. Stopword Removal"
   ]
  },
  {
   "cell_type": "code",
   "execution_count": null,
   "metadata": {},
   "outputs": [],
   "source": []
  },
  {
   "cell_type": "markdown",
   "metadata": {},
   "source": [
    "##### 6. Stemming"
   ]
  },
  {
   "cell_type": "code",
   "execution_count": null,
   "metadata": {},
   "outputs": [],
   "source": []
  },
  {
   "cell_type": "markdown",
   "metadata": {},
   "source": [
    "##### 7. POS Tagging"
   ]
  },
  {
   "cell_type": "code",
   "execution_count": null,
   "metadata": {},
   "outputs": [],
   "source": []
  }
 ],
 "metadata": {
  "interpreter": {
   "hash": "12423ea4f6087177fed350966864bfad756167214050108e94400242cdddf092"
  },
  "kernelspec": {
   "display_name": "Python 3.10.1 64-bit",
   "language": "python",
   "name": "python3"
  },
  "language_info": {
   "codemirror_mode": {
    "name": "ipython",
    "version": 3
   },
   "file_extension": ".py",
   "mimetype": "text/x-python",
   "name": "python",
   "nbconvert_exporter": "python",
   "pygments_lexer": "ipython3",
   "version": "3.10.1"
  },
  "orig_nbformat": 4
 },
 "nbformat": 4,
 "nbformat_minor": 2
}
