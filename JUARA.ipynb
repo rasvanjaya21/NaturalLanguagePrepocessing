{
 "cells": [
  {
   "cell_type": "markdown",
   "metadata": {},
   "source": [
    "#### TUGAS UTS NLP (Dosen Pemangku : Ibu Nur Hayatin)\n"
   ]
  },
  {
   "cell_type": "markdown",
   "metadata": {},
   "source": [
    "###### 1. Yusril Aminuddin - 201910370311366\n",
    "###### 2. Yusril Aminuddin - 201910370311366\n",
    "###### 3. Yusril Aminuddin - 201910370311366"
   ]
  },
  {
   "cell_type": "markdown",
   "metadata": {},
   "source": [
    "#### I. Petunjuk"
   ]
  },
  {
   "cell_type": "markdown",
   "metadata": {},
   "source": [
    "###### • Tugas Wajib: mengerjakan penugasan A dan B (nomor 1-7)\n",
    "###### • Tugas Tantangan: menambahkan slangword dan repetition normalization (contoh: “gak”→ “enggak”, “baguusss” → “bagus”)\n",
    "###### • Pengerjakan tugas berkelompok.\n",
    "###### • Pengumpulan: upload ke google drive (berisi: source code python, dan data csv hasil merging). Link google drive diletakan pada file excel yang sudah disediakan.\n",
    "###### • Deadline pengumpulan tugas: 17 Mei 2022 (pkl. 23.59 wib)"
   ]
  },
  {
   "cell_type": "markdown",
   "metadata": {},
   "source": [
    "#### II. Skor/penilaian UTS"
   ]
  },
  {
   "cell_type": "markdown",
   "metadata": {},
   "source": [
    "###### nilai B = mengerjakan tugas wajib sesuai petunjuk dan hasilnya benar.\n",
    "###### nilai A = mengerjakan tugas wajib + tugas tantangan dengan benar."
   ]
  },
  {
   "cell_type": "markdown",
   "metadata": {},
   "source": [
    "#### III. Penugasan"
   ]
  },
  {
   "cell_type": "markdown",
   "metadata": {},
   "source": [
    "##### A. Merging Data\n",
    "###### Data csv merupakan gabungan dari data hasil crawling oleh seluruh anggota dalam 1 team. \n",
    "###### Jika dalam 1 team ada 5 orang maka total gabungan data menjadi +/- 500 rows."
   ]
  },
  {
   "cell_type": "markdown",
   "metadata": {},
   "source": [
    "##### B. Preprocessing\n",
    "###### 1. Menampilkan file csv\n",
    "###### 2. mengubah rating menjadi kelas sentiment (1-2: negative, 3 neutral, 4-5: positive)\n",
    "###### 3. lowercase\n",
    "###### 4. remove punctuation & symbol\n",
    "###### 5. stopword removal\n",
    "###### 6. stemming\n",
    "###### 7. POS tagging\n"
   ]
  },
  {
   "cell_type": "markdown",
   "metadata": {},
   "source": [
    "#### Jawaban"
   ]
  },
  {
   "cell_type": "markdown",
   "metadata": {},
   "source": [
    "##### 1. Menampilkan File CSV"
   ]
  },
  {
   "cell_type": "code",
   "execution_count": 1,
   "metadata": {},
   "outputs": [],
   "source": [
    "import pandas as pd"
   ]
  },
  {
   "cell_type": "code",
   "execution_count": 37,
   "metadata": {},
   "outputs": [],
   "source": [
    "df = pd.read_csv(r\"Dataset Merging/UTS-PBA-A (Merging) Final.csv\", sep = \";\")"
   ]
  },
  {
   "cell_type": "code",
   "execution_count": 39,
   "metadata": {},
   "outputs": [
    {
     "data": {
      "text/html": [
       "<div>\n",
       "<style scoped>\n",
       "    .dataframe tbody tr th:only-of-type {\n",
       "        vertical-align: middle;\n",
       "    }\n",
       "\n",
       "    .dataframe tbody tr th {\n",
       "        vertical-align: top;\n",
       "    }\n",
       "\n",
       "    .dataframe thead th {\n",
       "        text-align: right;\n",
       "    }\n",
       "</style>\n",
       "<table border=\"1\" class=\"dataframe\">\n",
       "  <thead>\n",
       "    <tr style=\"text-align: right;\">\n",
       "      <th></th>\n",
       "      <th>author</th>\n",
       "      <th>rating</th>\n",
       "      <th>komentar</th>\n",
       "      <th>label</th>\n",
       "    </tr>\n",
       "  </thead>\n",
       "  <tbody>\n",
       "    <tr>\n",
       "      <th>0</th>\n",
       "      <td>b*****d</td>\n",
       "      <td>5</td>\n",
       "      <td>Pengemasan nya cepat. Dapet harga diskon. Keme...</td>\n",
       "      <td>pengiriman:pos;harga:pos;produk:pos</td>\n",
       "    </tr>\n",
       "    <tr>\n",
       "      <th>1</th>\n",
       "      <td>d*****a</td>\n",
       "      <td>5</td>\n",
       "      <td>Kualitas bagus, harga lumayan murah apalagi da...</td>\n",
       "      <td>produk:pos;harga:pos</td>\n",
       "    </tr>\n",
       "    <tr>\n",
       "      <th>2</th>\n",
       "      <td>zanlfattah</td>\n",
       "      <td>5</td>\n",
       "      <td>Mimin responsif, rekomennya pas, harga sesuai ...</td>\n",
       "      <td>lapak:pos;harga:pos</td>\n",
       "    </tr>\n",
       "    <tr>\n",
       "      <th>3</th>\n",
       "      <td>f*****s</td>\n",
       "      <td>5</td>\n",
       "      <td>Kualitas baju bagus, packing aman dan proses p...</td>\n",
       "      <td>produk:pos;pengiriman:pos</td>\n",
       "    </tr>\n",
       "    <tr>\n",
       "      <th>4</th>\n",
       "      <td>ou84aa3yy5</td>\n",
       "      <td>5</td>\n",
       "      <td>Bahannya bagus, real pict pokonya ga nyesel be...</td>\n",
       "      <td>produk:pos</td>\n",
       "    </tr>\n",
       "  </tbody>\n",
       "</table>\n",
       "</div>"
      ],
      "text/plain": [
       "       author  rating                                           komentar  \\\n",
       "0     b*****d       5  Pengemasan nya cepat. Dapet harga diskon. Keme...   \n",
       "1     d*****a       5  Kualitas bagus, harga lumayan murah apalagi da...   \n",
       "2  zanlfattah       5  Mimin responsif, rekomennya pas, harga sesuai ...   \n",
       "3     f*****s       5  Kualitas baju bagus, packing aman dan proses p...   \n",
       "4  ou84aa3yy5       5  Bahannya bagus, real pict pokonya ga nyesel be...   \n",
       "\n",
       "                                 label  \n",
       "0  pengiriman:pos;harga:pos;produk:pos  \n",
       "1                 produk:pos;harga:pos  \n",
       "2                  lapak:pos;harga:pos  \n",
       "3            produk:pos;pengiriman:pos  \n",
       "4                           produk:pos  "
      ]
     },
     "execution_count": 39,
     "metadata": {},
     "output_type": "execute_result"
    }
   ],
   "source": [
    "df.head()"
   ]
  },
  {
   "cell_type": "markdown",
   "metadata": {},
   "source": [
    "##### 1. Menampilkan File CSV"
   ]
  }
 ],
 "metadata": {
  "interpreter": {
   "hash": "12423ea4f6087177fed350966864bfad756167214050108e94400242cdddf092"
  },
  "kernelspec": {
   "display_name": "Python 3.10.1 64-bit",
   "language": "python",
   "name": "python3"
  },
  "language_info": {
   "codemirror_mode": {
    "name": "ipython",
    "version": 3
   },
   "file_extension": ".py",
   "mimetype": "text/x-python",
   "name": "python",
   "nbconvert_exporter": "python",
   "pygments_lexer": "ipython3",
   "version": "3.10.1"
  },
  "orig_nbformat": 4
 },
 "nbformat": 4,
 "nbformat_minor": 2
}
