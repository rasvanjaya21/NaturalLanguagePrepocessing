{
 "cells": [
  {
   "cell_type": "markdown",
   "metadata": {},
   "source": [
    "#### TUGAS UTS NLP (Dosen Pemangku : Ibu Nur Hayatin)\n"
   ]
  },
  {
   "cell_type": "markdown",
   "metadata": {},
   "source": [
    "###### 1. Yusril Aminuddin - 201910370311366\n",
    "###### 2. Yusril Aminuddin - 201910370311366\n",
    "###### 3. Yusril Aminuddin - 201910370311366"
   ]
  },
  {
   "cell_type": "markdown",
   "metadata": {},
   "source": [
    "#### I. Petunjuk"
   ]
  },
  {
   "cell_type": "markdown",
   "metadata": {},
   "source": [
    "###### • Tugas Wajib: mengerjakan penugasan A dan B (nomor 1-7)\n",
    "###### • Tugas Tantangan: menambahkan slangword dan repetition normalization (contoh: “gak”→ “enggak”, “baguusss” → “bagus”)\n",
    "###### • Pengerjakan tugas berkelompok.\n",
    "###### • Pengumpulan: upload ke google drive (berisi: source code python, dan data csv hasil merging). Link google drive diletakan pada file excel yang sudah disediakan.\n",
    "###### • Deadline pengumpulan tugas: 17 Mei 2022 (pkl. 23.59 wib)"
   ]
  },
  {
   "cell_type": "markdown",
   "metadata": {},
   "source": [
    "#### II. Skor/penilaian UTS"
   ]
  },
  {
   "cell_type": "markdown",
   "metadata": {},
   "source": [
    "###### nilai B = mengerjakan tugas wajib sesuai petunjuk dan hasilnya benar.\n",
    "###### nilai A = mengerjakan tugas wajib + tugas tantangan dengan benar."
   ]
  },
  {
   "cell_type": "markdown",
   "metadata": {},
   "source": [
    "#### III. Penugasan"
   ]
  },
  {
   "cell_type": "markdown",
   "metadata": {},
   "source": [
    "##### A. Merging Data\n",
    "###### Data csv merupakan gabungan dari data hasil crawling oleh seluruh anggota dalam 1 team. \n",
    "###### Jika dalam 1 team ada 5 orang maka total gabungan data menjadi +/- 500 rows."
   ]
  },
  {
   "cell_type": "markdown",
   "metadata": {},
   "source": [
    "##### B. Preprocessing\n",
    "###### 1. Menampilkan file csv\n",
    "###### 2. mengubah rating menjadi kelas sentiment (1-2: negative, 3 neutral, 4-5: positive)\n",
    "###### 3. lowercase\n",
    "###### 4. remove punctuation & symbol\n",
    "###### 5. stopword removal\n",
    "###### 6. stemming\n",
    "###### 7. POS tagging\n"
   ]
  },
  {
   "cell_type": "markdown",
   "metadata": {},
   "source": [
    "#### Jawaban"
   ]
  },
  {
   "cell_type": "markdown",
   "metadata": {},
   "source": [
    "##### 1. Menampilkan File CSV ✅"
   ]
  },
  {
   "cell_type": "code",
   "execution_count": 1,
   "metadata": {},
   "outputs": [],
   "source": [
    "import pandas as pd"
   ]
  },
  {
   "cell_type": "code",
   "execution_count": 2,
   "metadata": {},
   "outputs": [],
   "source": [
    "df = pd.read_csv(r\"Dataset Merging/UTS-PBA-A (Merging) Final.csv\", sep = \";\")"
   ]
  },
  {
   "cell_type": "code",
   "execution_count": 3,
   "metadata": {},
   "outputs": [
    {
     "data": {
      "text/html": [
       "<div>\n",
       "<style scoped>\n",
       "    .dataframe tbody tr th:only-of-type {\n",
       "        vertical-align: middle;\n",
       "    }\n",
       "\n",
       "    .dataframe tbody tr th {\n",
       "        vertical-align: top;\n",
       "    }\n",
       "\n",
       "    .dataframe thead th {\n",
       "        text-align: right;\n",
       "    }\n",
       "</style>\n",
       "<table border=\"1\" class=\"dataframe\">\n",
       "  <thead>\n",
       "    <tr style=\"text-align: right;\">\n",
       "      <th></th>\n",
       "      <th>author</th>\n",
       "      <th>rating</th>\n",
       "      <th>komentar</th>\n",
       "      <th>label</th>\n",
       "    </tr>\n",
       "  </thead>\n",
       "  <tbody>\n",
       "    <tr>\n",
       "      <th>0</th>\n",
       "      <td>b*****d</td>\n",
       "      <td>5</td>\n",
       "      <td>Pengemasan nya cepat. Dapet harga diskon. Keme...</td>\n",
       "      <td>pengiriman:pos;harga:pos;produk:pos</td>\n",
       "    </tr>\n",
       "    <tr>\n",
       "      <th>1</th>\n",
       "      <td>d*****a</td>\n",
       "      <td>5</td>\n",
       "      <td>Kualitas bagus, harga lumayan murah apalagi da...</td>\n",
       "      <td>produk:pos;harga:pos</td>\n",
       "    </tr>\n",
       "    <tr>\n",
       "      <th>2</th>\n",
       "      <td>zanlfattah</td>\n",
       "      <td>5</td>\n",
       "      <td>Mimin responsif, rekomennya pas, harga sesuai ...</td>\n",
       "      <td>lapak:pos;harga:pos</td>\n",
       "    </tr>\n",
       "    <tr>\n",
       "      <th>3</th>\n",
       "      <td>f*****s</td>\n",
       "      <td>5</td>\n",
       "      <td>Kualitas baju bagus, packing aman dan proses p...</td>\n",
       "      <td>produk:pos;pengiriman:pos</td>\n",
       "    </tr>\n",
       "    <tr>\n",
       "      <th>4</th>\n",
       "      <td>ou84aa3yy5</td>\n",
       "      <td>5</td>\n",
       "      <td>Bahannya bagus, real pict pokonya ga nyesel be...</td>\n",
       "      <td>produk:pos</td>\n",
       "    </tr>\n",
       "  </tbody>\n",
       "</table>\n",
       "</div>"
      ],
      "text/plain": [
       "       author  rating                                           komentar  \\\n",
       "0     b*****d       5  Pengemasan nya cepat. Dapet harga diskon. Keme...   \n",
       "1     d*****a       5  Kualitas bagus, harga lumayan murah apalagi da...   \n",
       "2  zanlfattah       5  Mimin responsif, rekomennya pas, harga sesuai ...   \n",
       "3     f*****s       5  Kualitas baju bagus, packing aman dan proses p...   \n",
       "4  ou84aa3yy5       5  Bahannya bagus, real pict pokonya ga nyesel be...   \n",
       "\n",
       "                                 label  \n",
       "0  pengiriman:pos;harga:pos;produk:pos  \n",
       "1                 produk:pos;harga:pos  \n",
       "2                  lapak:pos;harga:pos  \n",
       "3            produk:pos;pengiriman:pos  \n",
       "4                           produk:pos  "
      ]
     },
     "execution_count": 3,
     "metadata": {},
     "output_type": "execute_result"
    }
   ],
   "source": [
    "df.head()"
   ]
  },
  {
   "cell_type": "markdown",
   "metadata": {},
   "source": [
    "##### 2. Mengubah Rating Menjadi Kelas Sentiment (1-2: Negative, 3: Neutral, 4-5: Positive) ✅"
   ]
  },
  {
   "cell_type": "code",
   "execution_count": 4,
   "metadata": {},
   "outputs": [],
   "source": [
    "# membuat fungsi pengecekan sentiment negative/netral/positif dari kolom rating\n",
    "def rating_pos_neg(rating):\n",
    "    if rating >= 1 and rating <= 2:\n",
    "        return \"Negative\"\n",
    "    if rating == 3 :\n",
    "        return \"Neutral\"\n",
    "    else:\n",
    "        return \"Positive\""
   ]
  },
  {
   "cell_type": "code",
   "execution_count": 7,
   "metadata": {},
   "outputs": [],
   "source": [
    "# membuat kolom baru dari fungsi diatas\n",
    "df[\"sentiment\"] = df[\"rating\"].apply(lambda x: rating_pos_neg(x))"
   ]
  },
  {
   "cell_type": "code",
   "execution_count": 8,
   "metadata": {},
   "outputs": [
    {
     "data": {
      "text/html": [
       "<div>\n",
       "<style scoped>\n",
       "    .dataframe tbody tr th:only-of-type {\n",
       "        vertical-align: middle;\n",
       "    }\n",
       "\n",
       "    .dataframe tbody tr th {\n",
       "        vertical-align: top;\n",
       "    }\n",
       "\n",
       "    .dataframe thead th {\n",
       "        text-align: right;\n",
       "    }\n",
       "</style>\n",
       "<table border=\"1\" class=\"dataframe\">\n",
       "  <thead>\n",
       "    <tr style=\"text-align: right;\">\n",
       "      <th></th>\n",
       "      <th>author</th>\n",
       "      <th>rating</th>\n",
       "      <th>komentar</th>\n",
       "      <th>label</th>\n",
       "      <th>sentiment</th>\n",
       "    </tr>\n",
       "  </thead>\n",
       "  <tbody>\n",
       "    <tr>\n",
       "      <th>0</th>\n",
       "      <td>b*****d</td>\n",
       "      <td>5</td>\n",
       "      <td>Pengemasan nya cepat. Dapet harga diskon. Keme...</td>\n",
       "      <td>pengiriman:pos;harga:pos;produk:pos</td>\n",
       "      <td>Positive</td>\n",
       "    </tr>\n",
       "    <tr>\n",
       "      <th>1</th>\n",
       "      <td>d*****a</td>\n",
       "      <td>5</td>\n",
       "      <td>Kualitas bagus, harga lumayan murah apalagi da...</td>\n",
       "      <td>produk:pos;harga:pos</td>\n",
       "      <td>Positive</td>\n",
       "    </tr>\n",
       "    <tr>\n",
       "      <th>2</th>\n",
       "      <td>zanlfattah</td>\n",
       "      <td>5</td>\n",
       "      <td>Mimin responsif, rekomennya pas, harga sesuai ...</td>\n",
       "      <td>lapak:pos;harga:pos</td>\n",
       "      <td>Positive</td>\n",
       "    </tr>\n",
       "    <tr>\n",
       "      <th>3</th>\n",
       "      <td>f*****s</td>\n",
       "      <td>5</td>\n",
       "      <td>Kualitas baju bagus, packing aman dan proses p...</td>\n",
       "      <td>produk:pos;pengiriman:pos</td>\n",
       "      <td>Positive</td>\n",
       "    </tr>\n",
       "    <tr>\n",
       "      <th>4</th>\n",
       "      <td>ou84aa3yy5</td>\n",
       "      <td>5</td>\n",
       "      <td>Bahannya bagus, real pict pokonya ga nyesel be...</td>\n",
       "      <td>produk:pos</td>\n",
       "      <td>Positive</td>\n",
       "    </tr>\n",
       "    <tr>\n",
       "      <th>...</th>\n",
       "      <td>...</td>\n",
       "      <td>...</td>\n",
       "      <td>...</td>\n",
       "      <td>...</td>\n",
       "      <td>...</td>\n",
       "    </tr>\n",
       "    <tr>\n",
       "      <th>249</th>\n",
       "      <td>w*****p</td>\n",
       "      <td>5</td>\n",
       "      <td>Barang sudah sampai dengan selamat</td>\n",
       "      <td>respon:pos</td>\n",
       "      <td>Positive</td>\n",
       "    </tr>\n",
       "    <tr>\n",
       "      <th>250</th>\n",
       "      <td>p******4</td>\n",
       "      <td>1</td>\n",
       "      <td>jahitan bagus, udah 2x order</td>\n",
       "      <td>size:pos;bahan:pos;jahitan:pos</td>\n",
       "      <td>Negative</td>\n",
       "    </tr>\n",
       "    <tr>\n",
       "      <th>251</th>\n",
       "      <td>a*****3</td>\n",
       "      <td>2</td>\n",
       "      <td>Bagussss sihh ini mah bener free stiker jugaa ...</td>\n",
       "      <td>bahan:pos;bonus:pos</td>\n",
       "      <td>Negative</td>\n",
       "    </tr>\n",
       "    <tr>\n",
       "      <th>252</th>\n",
       "      <td>i*****y</td>\n",
       "      <td>3</td>\n",
       "      <td>Terima kasih produk sesuai pesanan... Pengirim...</td>\n",
       "      <td>produk:pos;pesanan...:pos</td>\n",
       "      <td>Neutral</td>\n",
       "    </tr>\n",
       "    <tr>\n",
       "      <th>253</th>\n",
       "      <td>hasan.elf_jr</td>\n",
       "      <td>4</td>\n",
       "      <td>Standar lah dngan hrga segini</td>\n",
       "      <td>respon:pos</td>\n",
       "      <td>Positive</td>\n",
       "    </tr>\n",
       "  </tbody>\n",
       "</table>\n",
       "<p>254 rows × 5 columns</p>\n",
       "</div>"
      ],
      "text/plain": [
       "           author  rating                                           komentar  \\\n",
       "0         b*****d       5  Pengemasan nya cepat. Dapet harga diskon. Keme...   \n",
       "1         d*****a       5  Kualitas bagus, harga lumayan murah apalagi da...   \n",
       "2      zanlfattah       5  Mimin responsif, rekomennya pas, harga sesuai ...   \n",
       "3         f*****s       5  Kualitas baju bagus, packing aman dan proses p...   \n",
       "4      ou84aa3yy5       5  Bahannya bagus, real pict pokonya ga nyesel be...   \n",
       "..            ...     ...                                                ...   \n",
       "249       w*****p       5                 Barang sudah sampai dengan selamat   \n",
       "250      p******4       1                       jahitan bagus, udah 2x order   \n",
       "251       a*****3       2  Bagussss sihh ini mah bener free stiker jugaa ...   \n",
       "252       i*****y       3  Terima kasih produk sesuai pesanan... Pengirim...   \n",
       "253  hasan.elf_jr       4                      Standar lah dngan hrga segini   \n",
       "\n",
       "                                   label sentiment  \n",
       "0    pengiriman:pos;harga:pos;produk:pos  Positive  \n",
       "1                   produk:pos;harga:pos  Positive  \n",
       "2                    lapak:pos;harga:pos  Positive  \n",
       "3              produk:pos;pengiriman:pos  Positive  \n",
       "4                             produk:pos  Positive  \n",
       "..                                   ...       ...  \n",
       "249                           respon:pos  Positive  \n",
       "250       size:pos;bahan:pos;jahitan:pos  Negative  \n",
       "251                  bahan:pos;bonus:pos  Negative  \n",
       "252            produk:pos;pesanan...:pos   Neutral  \n",
       "253                           respon:pos  Positive  \n",
       "\n",
       "[254 rows x 5 columns]"
      ]
     },
     "execution_count": 8,
     "metadata": {},
     "output_type": "execute_result"
    }
   ],
   "source": [
    "df.head(500)"
   ]
  },
  {
   "cell_type": "markdown",
   "metadata": {},
   "source": [
    "##### 3. Lowercase"
   ]
  },
  {
   "cell_type": "code",
   "execution_count": null,
   "metadata": {},
   "outputs": [],
   "source": []
  },
  {
   "cell_type": "markdown",
   "metadata": {},
   "source": [
    "##### 4. Remove Punctuation & Symbol"
   ]
  },
  {
   "cell_type": "code",
   "execution_count": null,
   "metadata": {},
   "outputs": [],
   "source": []
  },
  {
   "cell_type": "markdown",
   "metadata": {},
   "source": [
    "##### 5. Stopword Removal"
   ]
  },
  {
   "cell_type": "code",
   "execution_count": null,
   "metadata": {},
   "outputs": [],
   "source": []
  },
  {
   "cell_type": "markdown",
   "metadata": {},
   "source": [
    "##### 6. Stemming"
   ]
  },
  {
   "cell_type": "code",
   "execution_count": null,
   "metadata": {},
   "outputs": [],
   "source": []
  },
  {
   "cell_type": "markdown",
   "metadata": {},
   "source": [
    "##### 7. POS Tagging"
   ]
  },
  {
   "cell_type": "code",
   "execution_count": null,
   "metadata": {},
   "outputs": [],
   "source": []
  }
 ],
 "metadata": {
  "interpreter": {
   "hash": "12423ea4f6087177fed350966864bfad756167214050108e94400242cdddf092"
  },
  "kernelspec": {
   "display_name": "Python 3.10.1 64-bit",
   "language": "python",
   "name": "python3"
  },
  "language_info": {
   "codemirror_mode": {
    "name": "ipython",
    "version": 3
   },
   "file_extension": ".py",
   "mimetype": "text/x-python",
   "name": "python",
   "nbconvert_exporter": "python",
   "pygments_lexer": "ipython3",
   "version": "3.10.1"
  },
  "orig_nbformat": 4
 },
 "nbformat": 4,
 "nbformat_minor": 2
}
